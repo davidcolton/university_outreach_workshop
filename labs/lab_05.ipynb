{
 "cells": [
  {
   "cell_type": "markdown",
   "id": "9763f72d",
   "metadata": {},
   "source": [
    "# Lab 5: Generative Objects\n",
    "\n",
    "Object-oriented programming (OOP) is a powerful paradigm for organizing code: you group related data and the methods that operate on that data into classes. In the world of LLMs, a similar organizational principle emerges—especially when you want to combine structured data with LLM-powered \"tools\" or operations. This is where Mellea's MObject abstraction comes in.\n",
    "\n",
    "The MObject Pattern: You should store data alongside its relevant operations (tools). This allows LLMs to interact with both the data and methods in a unified, structured manner. It also simplifies the process of exposing only the specific fields and methods you want the LLM to access.\n",
    "\n",
    "The MObject pattern also provides a way of evolving existing classical codebases into generative programs. Mellea's @mify decorator lets you turn any class into an MObject. If needed, you can specify which fields and methods are included, and provide a template for how the object should be represented to the LLM."
   ]
  },
  {
   "cell_type": "code",
   "execution_count": null,
   "id": "0354ce50",
   "metadata": {},
   "outputs": [],
   "source": [
    "# Import necessary libraries\n",
    "import pandas as pd\n",
    "import mellea\n",
    "from mellea.stdlib.mify import mify\n",
    "from io import StringIO\n",
    "\n",
    "# Display utilities\n",
    "from IPython.display import display, Markdown\n",
    "\n",
    "# Format code cells with black\n",
    "import jupyter_black\n",
    "\n",
    "jupyter_black.load()"
   ]
  },
  {
   "cell_type": "markdown",
   "id": "c1bdc441",
   "metadata": {},
   "source": [
    "## Extract table from the document\n",
    "\n",
    "We can use docling to extract documents from the table."
   ]
  },
  {
   "cell_type": "code",
   "execution_count": null,
   "id": "6013e933",
   "metadata": {},
   "outputs": [],
   "source": [
    "@mify(fields_include={\"table\"}, template=\"{{ table }}\")\n",
    "class MyCompanyDatabase:\n",
    "    \"\"\"\n",
    "    Simple in-memory company sales table wrapped as an MObject.\n",
    "\n",
    "    The class stores a CSV table (as a string) and exposes utility methods to\n",
    "    parse and update that table. The @mify decorator controls which fields are\n",
    "    visible to the LLM and how the object is rendered.\n",
    "\n",
    "    Attributes:\n",
    "        table (str): CSV formatted table with columns \"Store\" and \"Sales\".\n",
    "    \"\"\"\n",
    "\n",
    "    table: str = \"\"\"Store,Sales\n",
    "Northeast,250\n",
    "West,300\n",
    "Southeast,80\n",
    "Midwest,420\n",
    "Southwest,150\n",
    "Pacific,500\"\"\"\n",
    "\n",
    "    def __init__(self, *, table: str | None = None):\n",
    "        # Allow overriding the default CSV table when constructing the object.\n",
    "        if table is not None:\n",
    "            self.table = table\n",
    "\n",
    "    def _parse_table(self, table: str) -> pd.DataFrame:\n",
    "        \"\"\"\n",
    "        Parse the CSV table string into a pandas DataFrame.\n",
    "\n",
    "        Args:\n",
    "            table: CSV-formatted string representing the table.\n",
    "\n",
    "        Returns:\n",
    "            pd.DataFrame: Parsed table with columns such as \"Store\" and \"Sales\".\n",
    "        \"\"\"\n",
    "        # Read CSV string into a DataFrame.\n",
    "        df = pd.read_csv(StringIO(table), sep=\",\")\n",
    "        return df\n",
    "\n",
    "    def update_sales(self, store: str, amount: int) -> \"MyCompanyDatabase\":\n",
    "        \"\"\"\n",
    "        Update the sales for a specific store and return a new database instance.\n",
    "\n",
    "        This method finds the row matching `store`, updates its \"Sales\" value to\n",
    "        `amount`, and returns a new MyCompanyDatabase containing the updated CSV.\n",
    "        Returning a new instance keeps the operation effectively immutable.\n",
    "\n",
    "        Args:\n",
    "            store: Name of the store to update (matches the \"Store\" column).\n",
    "            amount: New sales value to set (kept as string to preserve CSV format).\n",
    "\n",
    "        Returns:\n",
    "            MyCompanyDatabase: A new instance with the updated table CSV.\n",
    "        \"\"\"\n",
    "        # Parse current table, update the Sales cell, and return a new instance.\n",
    "        df = self._parse_table(self.table)\n",
    "        df.loc[df[\"Store\"] == store, \"Sales\"] = int(amount)\n",
    "        return MyCompanyDatabase(table=df.to_csv(sep=\",\", index=False, header=True))"
   ]
  },
  {
   "cell_type": "code",
   "execution_count": null,
   "id": "f03f146b",
   "metadata": {},
   "outputs": [],
   "source": [
    "# Create a Mellea model using the granite3.3:8b model and the ollama inference engine\n",
    "m = mellea.start_session()\n",
    "\n",
    "# Example usage\n",
    "db = MyCompanyDatabase()\n",
    "print(m.query(db, \"What were sales for the Northeast branch this month?\"))\n",
    "\n",
    "# Update the sales for the Northeast branch\n",
    "db = m.transform(db, \"Update the northeast sales to 1250.\")\n",
    "print(m.query(db, \"What were sales for the Northeast branch this month?\"))"
   ]
  },
  {
   "cell_type": "markdown",
   "id": "f5916e5f",
   "metadata": {},
   "source": [
    "# Exercises\n",
    "\n",
    "1. TBD"
   ]
  },
  {
   "cell_type": "markdown",
   "id": "c526af31",
   "metadata": {},
   "source": []
  }
 ],
 "metadata": {
  "kernelspec": {
   "display_name": "university-outreach-workshop",
   "language": "python",
   "name": "python3"
  },
  "language_info": {
   "codemirror_mode": {
    "name": "ipython",
    "version": 3
   },
   "file_extension": ".py",
   "mimetype": "text/x-python",
   "name": "python",
   "nbconvert_exporter": "python",
   "pygments_lexer": "ipython3",
   "version": "3.12.8"
  }
 },
 "nbformat": 4,
 "nbformat_minor": 5
}
