{
 "cells": [
  {
   "cell_type": "markdown",
   "id": "9763f72d",
   "metadata": {},
   "source": [
    "# Lab 6: Information Extraction\n",
    "\n",
    "Simple Example of information extraction with Mellea using generative slots."
   ]
  },
  {
   "cell_type": "code",
   "execution_count": null,
   "id": "0354ce50",
   "metadata": {},
   "outputs": [],
   "source": [
    "# Import necessary libraries\n",
    "from mellea import generative, start_session\n",
    "from mellea.backends import model_ids\n",
    "\n",
    "# Display utilities\n",
    "from IPython.display import display, Markdown\n",
    "\n",
    "# Format code cells with black\n",
    "import jupyter_black\n",
    "\n",
    "jupyter_black.load()"
   ]
  },
  {
   "cell_type": "code",
   "execution_count": null,
   "id": "6013e933",
   "metadata": {},
   "outputs": [],
   "source": [
    "# Start a Mellea session\n",
    "m = start_session()\n",
    "\n",
    "\n",
    "# Define a generative function to extract person names\n",
    "@generative\n",
    "def extract_all_person_names(doc: str) -> list[str]:\n",
    "    \"\"\"\n",
    "    Extract all person names mentioned in the given document text.\n",
    "\n",
    "    This function analyzes the input text and identifies names of people,\n",
    "    including full names, titles, and honorifics. It returns a list of unique\n",
    "    person names found in the document.\n",
    "\n",
    "    Args:\n",
    "        doc (str): The input document text to analyze for person names.\n",
    "              Can contain paragraphs, quotes, or any text format.\n",
    "\n",
    "    Returns:\n",
    "        list[str]: A list of strings where each string is a person's name.\n",
    "                  Names may include titles (e.g., \"President Obama\", \"Dr. Smith\").\n",
    "                  Returns an empty list if no names are found.\n",
    "\n",
    "    Examples:\n",
    "        >>> text = \"President Biden met with Chancellor Merkel.\"\n",
    "        >>> extract_all_person_names(text)\n",
    "        ['President Biden', 'Chancellor Merkel']\n",
    "    \"\"\"\n",
    "\n",
    "\n",
    "# ref: https://www.nytimes.com/2012/05/20/world/world-leaders-at-us-meeting-urge-growth-not-austerity.html\n",
    "NYTimes_text = \"\"\"CAMP DAVID, Md. — Leaders of the world's richest countries banded together on Saturday \n",
    "to press Germany to back more pro-growth policies to halt the deepening debt crisis in Europe, \n",
    "as President Obama for the first time gained widespread support for his argument that Europe, and the \n",
    "United States by extension, cannot afford Chancellor Angela Merkel's one-size-fits-all approach emphasizing austerity.\"\"\"\n",
    "\n",
    "person_names = extract_all_person_names(m, doc=NYTimes_text)\n",
    "\n",
    "print(f\"person_names = {person_names}\")\n",
    "# out: person_names = ['President Obama', 'Angela Merkel']"
   ]
  },
  {
   "cell_type": "markdown",
   "id": "f5916e5f",
   "metadata": {},
   "source": [
    "# Exercises\n",
    "\n",
    "1. Extend the extractor to include entity types (person, organization, location) and return structured records.\n",
    "2. Add a confidence field or provenance (text span) for each extracted name.\n",
    "3. Compose the extractor with a deduplication/normalization step (e.g., convert \"B. Obama\" → \"Barack Obama\")."
   ]
  }
 ],
 "metadata": {
  "kernelspec": {
   "display_name": "university-outreach-workshop",
   "language": "python",
   "name": "python3"
  },
  "language_info": {
   "codemirror_mode": {
    "name": "ipython",
    "version": 3
   },
   "file_extension": ".py",
   "mimetype": "text/x-python",
   "name": "python",
   "nbconvert_exporter": "python",
   "pygments_lexer": "ipython3",
   "version": "3.12.8"
  }
 },
 "nbformat": 4,
 "nbformat_minor": 5
}
