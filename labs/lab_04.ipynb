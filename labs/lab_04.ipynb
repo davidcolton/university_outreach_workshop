{
 "cells": [
  {
   "cell_type": "markdown",
   "id": "9763f72d",
   "metadata": {},
   "source": [
    "# LAB 4: Docling and Mellea\n",
    "\n",
    "In this lab, we will use both Docling and Mellea to extract and then modify data in a PDF."
   ]
  },
  {
   "cell_type": "code",
   "execution_count": null,
   "id": "0354ce50",
   "metadata": {},
   "outputs": [],
   "source": [
    "# Import necessary libraries\n",
    "import mellea\n",
    "from mellea.backends.model_ids import META_LLAMA_3_2_3B\n",
    "from mellea.backends.ollama import OllamaModelBackend\n",
    "from mellea.backends.types import ModelOption\n",
    "from mellea.stdlib.docs.richdocument import RichDocument\n",
    "from mellea.stdlib.docs.richdocument import Table\n",
    "\n",
    "# Display utilities\n",
    "from IPython.display import display, Markdown\n",
    "\n",
    "# Format code cells with black\n",
    "import jupyter_black\n",
    "\n",
    "jupyter_black.load()"
   ]
  },
  {
   "cell_type": "markdown",
   "id": "c1bdc441",
   "metadata": {},
   "source": [
    "## Extract table from the document\n",
    "\n",
    "We can use docling to extract documents from the table."
   ]
  },
  {
   "cell_type": "code",
   "execution_count": null,
   "id": "6013e933",
   "metadata": {},
   "outputs": [],
   "source": [
    "# Load a document from a URL\n",
    "rd = RichDocument.from_document_file(\"https://arxiv.org/pdf/1906.04043\")\n",
    "\n",
    "# Extract the first table from the document\n",
    "first_table: Table = rd.get_tables()[0]\n",
    "\n",
    "# Display the first table in markdown format\n",
    "display(Markdown(first_table.to_markdown()))"
   ]
  },
  {
   "cell_type": "markdown",
   "id": "e425fad3",
   "metadata": {},
   "source": [
    "## Working with the Table Object\n",
    "\n",
    "The Table object is Mellea-ready and can be used immediately with LLMs. In this example, `first_table` is transformed to have an extra column \"Model\" which contains the model string from the Feature column or \"None\" if there is none."
   ]
  },
  {
   "cell_type": "code",
   "execution_count": null,
   "id": "f03f146b",
   "metadata": {},
   "outputs": [],
   "source": [
    "# You can use multiple different models at the same time!\n",
    "m_llama = mellea.MelleaSession(backend=OllamaModelBackend(model_id=META_LLAMA_3_2_3B))\n",
    "\n",
    "for seed in [x * 12 for x in range(5)]:\n",
    "    table2 = m_llama.transform(\n",
    "        first_table,\n",
    "        \"Add a 'Model' column as the last column that extracts which model was used for that feature or 'None' if none.\",\n",
    "        model_options={ModelOption.SEED: seed},\n",
    "    )\n",
    "    if isinstance(table2, Table):\n",
    "        display(Markdown(table2.to_markdown()))\n",
    "    else:\n",
    "        print(\"==== TRYING AGAIN after non-useful output.====\")"
   ]
  },
  {
   "cell_type": "markdown",
   "id": "f5916e5f",
   "metadata": {},
   "source": [
    "# Exercises\n",
    "\n",
    "1. TBD"
   ]
  },
  {
   "cell_type": "markdown",
   "id": "c526af31",
   "metadata": {},
   "source": []
  }
 ],
 "metadata": {
  "kernelspec": {
   "display_name": "university-outreach-workshop",
   "language": "python",
   "name": "python3"
  },
  "language_info": {
   "codemirror_mode": {
    "name": "ipython",
    "version": 3
   },
   "file_extension": ".py",
   "mimetype": "text/x-python",
   "name": "python",
   "nbconvert_exporter": "python",
   "pygments_lexer": "ipython3",
   "version": "3.12.8"
  }
 },
 "nbformat": 4,
 "nbformat_minor": 5
}
