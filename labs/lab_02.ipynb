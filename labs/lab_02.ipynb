{
 "cells": [
  {
   "cell_type": "markdown",
   "id": "9763f72d",
   "metadata": {},
   "source": [
    "# Lab 2: Instruct-Validate-Repair\n",
    "\n",
    "Instruct-Validate-Repair is a design pattern for building robust automation using LLMs. The idea is simple:\n",
    "\n",
    "1. Instruct the model to perform a task and specify requirements on the output of the task.\n",
    "2. Validate that these requirements are satisfied by the model's output.\n",
    "3. If any requirements fail, try to repair."
   ]
  },
  {
   "cell_type": "code",
   "execution_count": null,
   "id": "0354ce50",
   "metadata": {},
   "outputs": [],
   "source": [
    "# Import necessary libraries\n",
    "import mellea\n",
    "from mellea.stdlib.requirement import check, req, simple_validate\n",
    "from mellea.stdlib.sampling import RejectionSamplingStrategy\n",
    "\n",
    "# Display utilities\n",
    "from IPython.display import display, Markdown\n",
    "\n",
    "# Format code cells with black\n",
    "import jupyter_black\n",
    "jupyter_black.load() "
   ]
  },
  {
   "cell_type": "code",
   "execution_count": null,
   "id": "6013e933",
   "metadata": {},
   "outputs": [],
   "source": [
    "# Add a requirements list that can be used for validation and repair exercises\n",
    "requirements = [\n",
    "    req(\"The email should have a salutation\"),\n",
    "    req(\n",
    "        \"Use only lower-case letters\",\n",
    "        validation_fn=simple_validate(lambda x: x.lower() == x),\n",
    "    ),\n",
    "    check(\"Do not mention purple elephants.\"),\n",
    "]"
   ]
  },
  {
   "cell_type": "code",
   "execution_count": null,
   "id": "80d15f30",
   "metadata": {},
   "outputs": [],
   "source": [
    "def write_email(m: mellea.MelleaSession, name: str, notes: str) -> str:\n",
    "    \"\"\"\n",
    "    Generate a short email using the provided name and notes.\n",
    "\n",
    "    This function instructs the Mellea session `m` to write an email using the\n",
    "    global `requirements` list and a rejection-sampling strategy to try multiple\n",
    "    candidates (loop_budget=5). If validation passes, the validated result is\n",
    "    returned. If validation fails after sampling, the first sampled generation\n",
    "    is returned as a fallback.\n",
    "\n",
    "    Args:\n",
    "        m: An active MelleaSession used to run the instruction.\n",
    "        name: Recipient name to be interpolated into the prompt.\n",
    "        notes: Notes to include in the body of the email.\n",
    "\n",
    "    Returns:\n",
    "        A string containing the generated email text.\n",
    "    \"\"\"\n",
    "    # Ask the model to write an email, passing validation requirements and\n",
    "    # a sampling strategy that will retry up to 5 times if candidates fail.\n",
    "    email_candidate = m.instruct(\n",
    "        \"Write an email to {{name}} using the notes following: {{notes}}.\",\n",
    "        requirements=requirements,\n",
    "        strategy=RejectionSamplingStrategy(loop_budget=5),\n",
    "        user_variables={\"name\": name, \"notes\": notes},\n",
    "        return_sampling_results=True,\n",
    "    )\n",
    "\n",
    "    # If the instruction succeeded and a validated result is available,\n",
    "    # return the validated result (preferred).\n",
    "    if email_candidate.success:\n",
    "        return str(email_candidate.result)\n",
    "\n",
    "    # Otherwise, fall back to the first sampled generation (best-effort).\n",
    "    # This ensures the function always returns some text even if validation failed.\n",
    "    return email_candidate.sample_generations[0].value"
   ]
  },
  {
   "cell_type": "code",
   "execution_count": null,
   "id": "f63aaa45",
   "metadata": {},
   "outputs": [],
   "source": [
    "# Create a Mellea model using the granite3.3:8b model and the ollama inference engine\n",
    "m = mellea.start_session()\n",
    "\n",
    "# Generate an email using the write_email function\n",
    "email = write_email(\n",
    "    m,\n",
    "    \"Olivia\",\n",
    "    \"\"\"Olivia helped the lab over the last few weeks by organizing intern events, \n",
    "       advertising the speaker series, and handling issues with snack delivery.\"\"\",\n",
    ")\n",
    "\n",
    "# Display the generated email\n",
    "display(Markdown(email))"
   ]
  },
  {
   "cell_type": "markdown",
   "id": "f5916e5f",
   "metadata": {},
   "source": [
    "# Exercises\n",
    "\n",
    "1. Can you change the requirements to only return upper case letters\n",
    "2. What happens if you change the note to say that the purple elephant was the highlight.\n",
    "3. Change the requirements, checks and note to write a letter of your choice."
   ]
  }
 ],
 "metadata": {
  "kernelspec": {
   "display_name": "university-outreach-workshop",
   "language": "python",
   "name": "python3"
  },
  "language_info": {
   "codemirror_mode": {
    "name": "ipython",
    "version": 3
   },
   "file_extension": ".py",
   "mimetype": "text/x-python",
   "name": "python",
   "nbconvert_exporter": "python",
   "pygments_lexer": "ipython3",
   "version": "3.12.8"
  }
 },
 "nbformat": 4,
 "nbformat_minor": 5
}
