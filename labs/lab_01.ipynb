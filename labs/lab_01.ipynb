{
 "cells": [
  {
   "cell_type": "markdown",
   "id": "9763f72d",
   "metadata": {},
   "source": [
    "# Lab 1: Hello, Mellea!\n",
    "\n",
    "Running `mellea.start_session()` initialize a new `MelleaSession`. The session holds three things:\n",
    "\n",
    "1. The model to use for this session. In this tutorial we will use granite3.3:8b.\n",
    "2. An inference engine; i.e., the code that actually calls our model. We will be using ollama, but you can also use Huggingface or any OpenAI-compatible endpoint.\n",
    "3. A `Context`, which tells Mellea how to remember context between requests. This is sometimes called the \"Message History\" in other frameworks. Throughout these early tutoriala, we will be using a `SimpleContext`. In `SimpleContext`s, **every request starts with a fresh context**. There is no preserved chat history between requests. Mellea provides other types of context, but for now we will not be using those features. See the [Mellea Tutorials](https://github.com/generative-computing/mellea) for further details."
   ]
  },
  {
   "cell_type": "code",
   "execution_count": null,
   "id": "0354ce50",
   "metadata": {},
   "outputs": [],
   "source": [
    "# Import necessary libraries\n",
    "import mellea\n",
    "\n",
    "# Display utilities\n",
    "from IPython.display import display, Markdown\n",
    "\n",
    "# Format code cells with black\n",
    "import jupyter_black\n",
    "jupyter_black.load() \n",
    "\n",
    "# Create a Mellea model using the granite3.3:8b model and the ollama inference engine\n",
    "m = mellea.start_session()\n",
    "\n",
    "# Send a chat message to the model\n",
    "# In this example, we are asking for fun trivia about IBM and the early history of AI.\n",
    "# Since we are using a SimpleContext, there is no preserved chat history between requests.\n",
    "# Each request starts fresh.\n",
    "answer = m.chat(\n",
    "    \"tell me some fun trivia about IBM and the early history of AI.\"\n",
    ")\n",
    "\n",
    "# Display the answer in markdown format\n",
    "display(Markdown(answer.content))"
   ]
  },
  {
   "cell_type": "markdown",
   "id": "f1531fbd",
   "metadata": {},
   "source": [
    "# Exercises\n",
    "\n",
    "1. Send your own message to Mellea.\n",
    "2. Can you add additional context."
   ]
  }
 ],
 "metadata": {
  "kernelspec": {
   "display_name": "university-outreach-workshop",
   "language": "python",
   "name": "python3"
  },
  "language_info": {
   "codemirror_mode": {
    "name": "ipython",
    "version": 3
   },
   "file_extension": ".py",
   "mimetype": "text/x-python",
   "name": "python",
   "nbconvert_exporter": "python",
   "pygments_lexer": "ipython3",
   "version": "3.12.8"
  }
 },
 "nbformat": 4,
 "nbformat_minor": 5
}
